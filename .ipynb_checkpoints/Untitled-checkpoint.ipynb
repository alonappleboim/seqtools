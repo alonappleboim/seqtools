{
 "cells": [
  {
   "cell_type": "code",
   "execution_count": 8,
   "metadata": {
    "collapsed": true
   },
   "outputs": [],
   "source": []
  },
  {
   "cell_type": "code",
   "execution_count": 4,
   "metadata": {
    "collapsed": false
   },
   "outputs": [
    {
     "name": "stdout",
     "output_type": "stream",
     "text": [
      "started working on sample 0\n",
      "error in 0 alignment: not all arguments converted during string formatting\n",
      "started working on sample 1\n",
      "error in 0 reduction: not all arguments converted during string formatting\n",
      "error in 1 alignment: not all arguments converted during string formatting\n",
      "error in 1 reduction: not all arguments converted during string formatting\n"
     ]
    }
   ],
   "source": [
    "import multiprocessing as mp\n",
    "from queue import Empty\n",
    "import dill\n",
    "\n",
    "def execute(f, args, c):\n",
    "    c = dill.loads(c)\n",
    "    try:\n",
    "        res = f(*args)\n",
    "        c.put((None, res))\n",
    "    except Exception as e:\n",
    "        c.put((e, None))\n",
    "\n",
    "def dispatch(work):\n",
    "    while True:\n",
    "        try:\n",
    "            task = work.get()\n",
    "            if task is None: break\n",
    "            mp.Process(target=execute, args=task).start()\n",
    "        except Empty: continue\n",
    "\n",
    "def printq(q):\n",
    "    for m in iter(q.get, None): print(m)\n",
    "\n",
    "def aligned(s):\n",
    "    if int(s) % 3 == 0: raise ValueError()\n",
    "    else: return True\n",
    "\n",
    "def reduced(s):\n",
    "    if int(s) % 2 == 0: raise ValueError()\n",
    "    else: return True\n",
    "\n",
    "    \n",
    "def sample_manager(s, wq, pq, c):\n",
    "    pq.put('started working on sample %s' % s)\n",
    "    dc = dill.dumps(c)\n",
    "    wq.put((aligned, s, dc))\n",
    "    res = c.get()\n",
    "    if res[0] is None: pq.put('aligned sample %s' % s)\n",
    "    else: pq.put('error in %s alignment: %s' % (s, res[0]))\n",
    "    wq.put((reduced, s, dc))\n",
    "    res = c.get()\n",
    "    if res[0] is None: pq.put('reduced sample %s' % s)\n",
    "    else: pq.put('error in %s reduction: %s' % (s, res[0]))\n",
    "    \n",
    "        \n",
    "def main(n):\n",
    "    m = mp.Manager()\n",
    "    wq = m.Queue()\n",
    "    pq = m.Queue()\n",
    "    dispatcher = mp.Process(target=dispatch, args=(wq,))\n",
    "    dispatcher.start()\n",
    "    printer = mp.Process(target=printq, args=(pq,))\n",
    "    printer.start()\n",
    "    \n",
    "    sms = []\n",
    "    for i in range(n):\n",
    "        sm = mp.Process(target=sample_manager, args=(str(i), wq, pq, m.Queue()))\n",
    "        sm.start()\n",
    "        sms.append(sm)\n",
    "        \n",
    "    for sm in sms: sm.join()\n",
    "    wq.put(None)\n",
    "    pq.put(None)\n",
    "    dispatcher.join()\n",
    "    printer.join()\n",
    "\n",
    "main(2)\n"
   ]
  }
 ],
 "metadata": {
  "kernelspec": {
   "display_name": "Python 3",
   "language": "python",
   "name": "python3"
  },
  "language_info": {
   "codemirror_mode": {
    "name": "ipython",
    "version": 3
   },
   "file_extension": ".py",
   "mimetype": "text/x-python",
   "name": "python",
   "nbconvert_exporter": "python",
   "pygments_lexer": "ipython3",
   "version": "3.5.2"
  }
 },
 "nbformat": 4,
 "nbformat_minor": 0
}
